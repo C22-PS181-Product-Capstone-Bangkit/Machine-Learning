{
 "cells": [
  {
   "cell_type": "markdown",
   "metadata": {
    "id": "_dEaVsqSgNyQ"
   },
   "source": [
    "##### Copyright 2020 The TensorFlow Authors."
   ]
  },
  {
   "cell_type": "code",
   "execution_count": 1,
   "metadata": {
    "cellView": "form",
    "execution": {
     "iopub.execute_input": "2021-10-02T12:07:25.716615Z",
     "iopub.status.busy": "2021-10-02T12:07:25.715828Z",
     "iopub.status.idle": "2021-10-02T12:07:25.720345Z",
     "shell.execute_reply": "2021-10-02T12:07:25.720772Z"
    },
    "id": "4FyfuZX-gTKS"
   },
   "outputs": [],
   "source": [
    "#@title Licensed under the Apache License, Version 2.0 (the \"License\");\n",
    "# you may not use this file except in compliance with the License.\n",
    "# You may obtain a copy of the License at\n",
    "#\n",
    "# https://www.apache.org/licenses/LICENSE-2.0\n",
    "#\n",
    "# Unless required by applicable law or agreed to in writing, software\n",
    "# distributed under the License is distributed on an \"AS IS\" BASIS,\n",
    "# WITHOUT WARRANTIES OR CONDITIONS OF ANY KIND, either express or implied.\n",
    "# See the License for the specific language governing permissions and\n",
    "# limitations under the License."
   ]
  },
  {
   "cell_type": "markdown",
   "metadata": {
    "id": "sT8AyHRMNh41"
   },
   "source": [
    "# TensorFlow Recommenders: Quickstart\n",
    "\n",
    "<table class=\"tfo-notebook-buttons\" align=\"left\">\n",
    "  <td>\n",
    "    <a target=\"_blank\" href=\"https://www.tensorflow.org/recommenders/quickstart\"><img src=\"https://www.tensorflow.org/images/tf_logo_32px.png\" />View on TensorFlow.org</a>\n",
    "  </td>\n",
    "  <td>\n",
    "    <a target=\"_blank\" href=\"https://colab.research.google.com/github/tensorflow/recommenders/blob/main/docs/examples/quickstart.ipynb\"><img src=\"https://www.tensorflow.org/images/colab_logo_32px.png\" />Run in Google Colab</a>\n",
    "  </td>\n",
    "  <td>\n",
    "    <a target=\"_blank\" href=\"https://github.com/tensorflow/recommenders/blob/main/docs/examples/quickstart.ipynb\"><img src=\"https://www.tensorflow.org/images/GitHub-Mark-32px.png\" />View source on GitHub</a>\n",
    "  </td>\n",
    "  <td>\n",
    "    <a href=\"https://storage.googleapis.com/tensorflow_docs/recommenders/docs/examples/quickstart.ipynb\"><img src=\"https://www.tensorflow.org/images/download_logo_32px.png\" />Download notebook</a>\n",
    "  </td>\n",
    "</table>"
   ]
  },
  {
   "cell_type": "markdown",
   "metadata": {
    "id": "8f-reQ11gbLB"
   },
   "source": [
    "In this tutorial, we build a simple matrix factorization model using the [MovieLens 100K dataset](https://grouplens.org/datasets/movielens/100k/) with TFRS. We can use this model to recommend movies for a given user."
   ]
  },
  {
   "cell_type": "markdown",
   "metadata": {
    "id": "qA00wBE2Ntdm"
   },
   "source": [
    "### Import TFRS\n",
    "\n",
    "First, install and import TFRS:"
   ]
  },
  {
   "cell_type": "code",
   "execution_count": 1,
   "metadata": {
    "execution": {
     "iopub.execute_input": "2021-10-02T12:07:25.733646Z",
     "iopub.status.busy": "2021-10-02T12:07:25.732871Z",
     "iopub.status.idle": "2021-10-02T12:07:29.352296Z",
     "shell.execute_reply": "2021-10-02T12:07:29.351438Z"
    },
    "id": "6yzAaM85Z12D"
   },
   "outputs": [
    {
     "name": "stdout",
     "output_type": "stream",
     "text": [
      "Requirement already satisfied: tensorflow in c:\\users\\vincent cm\\anaconda3\\lib\\site-packages (2.9.0)\n",
      "Requirement already satisfied: google-pasta>=0.1.1 in c:\\users\\vincent cm\\anaconda3\\lib\\site-packages (from tensorflow) (0.2.0)\n",
      "Requirement already satisfied: gast<=0.4.0,>=0.2.1 in c:\\users\\vincent cm\\anaconda3\\lib\\site-packages (from tensorflow) (0.4.0)\n",
      "Requirement already satisfied: wrapt>=1.11.0 in c:\\users\\vincent cm\\anaconda3\\lib\\site-packages (from tensorflow) (1.12.1)\n",
      "Requirement already satisfied: opt-einsum>=2.3.2 in c:\\users\\vincent cm\\anaconda3\\lib\\site-packages (from tensorflow) (3.3.0)\n",
      "Requirement already satisfied: h5py>=2.9.0 in c:\\users\\vincent cm\\anaconda3\\lib\\site-packages (from tensorflow) (2.10.0)\n",
      "Requirement already satisfied: protobuf>=3.9.2 in c:\\users\\vincent cm\\appdata\\roaming\\python\\python38\\site-packages (from tensorflow) (3.18.0)\n",
      "Requirement already satisfied: absl-py>=1.0.0 in c:\\users\\vincent cm\\anaconda3\\lib\\site-packages (from tensorflow) (1.0.0)\n",
      "Requirement already satisfied: termcolor>=1.1.0 in c:\\users\\vincent cm\\anaconda3\\lib\\site-packages (from tensorflow) (1.1.0)\n",
      "Requirement already satisfied: six>=1.12.0 in c:\\users\\vincent cm\\anaconda3\\lib\\site-packages (from tensorflow) (1.16.0)\n",
      "Requirement already satisfied: tensorboard<2.10,>=2.9 in c:\\users\\vincent cm\\anaconda3\\lib\\site-packages (from tensorflow) (2.9.0)\n",
      "Requirement already satisfied: flatbuffers<2,>=1.12 in c:\\users\\vincent cm\\anaconda3\\lib\\site-packages (from tensorflow) (1.12)\n",
      "Requirement already satisfied: numpy>=1.20 in c:\\users\\vincent cm\\anaconda3\\lib\\site-packages (from tensorflow) (1.20.3)\n",
      "Requirement already satisfied: grpcio<2.0,>=1.24.3 in c:\\users\\vincent cm\\anaconda3\\lib\\site-packages (from tensorflow) (1.46.3)\n",
      "Requirement already satisfied: keras<2.10.0,>=2.9.0rc0 in c:\\users\\vincent cm\\anaconda3\\lib\\site-packages (from tensorflow) (2.9.0)\n",
      "Requirement already satisfied: astunparse>=1.6.0 in c:\\users\\vincent cm\\anaconda3\\lib\\site-packages (from tensorflow) (1.6.3)\n",
      "Requirement already satisfied: typing-extensions>=3.6.6 in c:\\users\\vincent cm\\anaconda3\\lib\\site-packages (from tensorflow) (3.10.0.2)\n",
      "Requirement already satisfied: tensorflow-io-gcs-filesystem>=0.23.1 in c:\\users\\vincent cm\\anaconda3\\lib\\site-packages (from tensorflow) (0.26.0)\n",
      "Requirement already satisfied: libclang>=13.0.0 in c:\\users\\vincent cm\\anaconda3\\lib\\site-packages (from tensorflow) (14.0.1)\n",
      "Requirement already satisfied: keras-preprocessing>=1.1.1 in c:\\users\\vincent cm\\anaconda3\\lib\\site-packages (from tensorflow) (1.1.2)\n",
      "Requirement already satisfied: setuptools in c:\\users\\vincent cm\\anaconda3\\lib\\site-packages (from tensorflow) (58.0.4)\n",
      "Requirement already satisfied: tensorflow-estimator<2.10.0,>=2.9.0rc0 in c:\\users\\vincent cm\\appdata\\roaming\\python\\python38\\site-packages (from tensorflow) (2.9.0)\n",
      "Requirement already satisfied: packaging in c:\\users\\vincent cm\\anaconda3\\lib\\site-packages (from tensorflow) (21.3)\n",
      "Requirement already satisfied: wheel<1.0,>=0.23.0 in c:\\users\\vincent cm\\anaconda3\\lib\\site-packages (from astunparse>=1.6.0->tensorflow) (0.37.1)\n",
      "Requirement already satisfied: google-auth<3,>=1.6.3 in c:\\users\\vincent cm\\anaconda3\\lib\\site-packages (from tensorboard<2.10,>=2.9->tensorflow) (2.6.6)\n",
      "Requirement already satisfied: markdown>=2.6.8 in c:\\users\\vincent cm\\anaconda3\\lib\\site-packages (from tensorboard<2.10,>=2.9->tensorflow) (3.3.7)\n",
      "Requirement already satisfied: requests<3,>=2.21.0 in c:\\users\\vincent cm\\anaconda3\\lib\\site-packages (from tensorboard<2.10,>=2.9->tensorflow) (2.27.1)\n",
      "Requirement already satisfied: tensorboard-plugin-wit>=1.6.0 in c:\\users\\vincent cm\\anaconda3\\lib\\site-packages (from tensorboard<2.10,>=2.9->tensorflow) (1.8.1)\n",
      "Requirement already satisfied: google-auth-oauthlib<0.5,>=0.4.1 in c:\\users\\vincent cm\\anaconda3\\lib\\site-packages (from tensorboard<2.10,>=2.9->tensorflow) (0.4.6)\n",
      "Requirement already satisfied: werkzeug>=1.0.1 in c:\\users\\vincent cm\\anaconda3\\lib\\site-packages (from tensorboard<2.10,>=2.9->tensorflow) (2.0.3)\n",
      "Requirement already satisfied: tensorboard-data-server<0.7.0,>=0.6.0 in c:\\users\\vincent cm\\anaconda3\\lib\\site-packages (from tensorboard<2.10,>=2.9->tensorflow) (0.6.1)\n",
      "Requirement already satisfied: cachetools<6.0,>=2.0.0 in c:\\users\\vincent cm\\anaconda3\\lib\\site-packages (from google-auth<3,>=1.6.3->tensorboard<2.10,>=2.9->tensorflow) (5.1.0)\n",
      "Requirement already satisfied: pyasn1-modules>=0.2.1 in c:\\users\\vincent cm\\anaconda3\\lib\\site-packages (from google-auth<3,>=1.6.3->tensorboard<2.10,>=2.9->tensorflow) (0.2.8)\n",
      "Requirement already satisfied: rsa<5,>=3.1.4 in c:\\users\\vincent cm\\anaconda3\\lib\\site-packages (from google-auth<3,>=1.6.3->tensorboard<2.10,>=2.9->tensorflow) (4.8)\n",
      "Requirement already satisfied: requests-oauthlib>=0.7.0 in c:\\users\\vincent cm\\anaconda3\\lib\\site-packages (from google-auth-oauthlib<0.5,>=0.4.1->tensorboard<2.10,>=2.9->tensorflow) (1.3.1)\n",
      "Requirement already satisfied: importlib-metadata>=4.4 in c:\\users\\vincent cm\\anaconda3\\lib\\site-packages (from markdown>=2.6.8->tensorboard<2.10,>=2.9->tensorflow) (4.8.2)\n",
      "Requirement already satisfied: zipp>=0.5 in c:\\users\\vincent cm\\anaconda3\\lib\\site-packages (from importlib-metadata>=4.4->markdown>=2.6.8->tensorboard<2.10,>=2.9->tensorflow) (3.7.0)\n",
      "Requirement already satisfied: pyasn1<0.5.0,>=0.4.6 in c:\\users\\vincent cm\\anaconda3\\lib\\site-packages (from pyasn1-modules>=0.2.1->google-auth<3,>=1.6.3->tensorboard<2.10,>=2.9->tensorflow) (0.4.8)\n",
      "Requirement already satisfied: charset-normalizer~=2.0.0 in c:\\users\\vincent cm\\anaconda3\\lib\\site-packages (from requests<3,>=2.21.0->tensorboard<2.10,>=2.9->tensorflow) (2.0.4)\n",
      "Requirement already satisfied: certifi>=2017.4.17 in c:\\users\\vincent cm\\anaconda3\\lib\\site-packages (from requests<3,>=2.21.0->tensorboard<2.10,>=2.9->tensorflow) (2021.10.8)\n",
      "Requirement already satisfied: idna<4,>=2.5 in c:\\users\\vincent cm\\anaconda3\\lib\\site-packages (from requests<3,>=2.21.0->tensorboard<2.10,>=2.9->tensorflow) (3.3)\n",
      "Requirement already satisfied: urllib3<1.27,>=1.21.1 in c:\\users\\vincent cm\\anaconda3\\lib\\site-packages (from requests<3,>=2.21.0->tensorboard<2.10,>=2.9->tensorflow) (1.26.8)\n",
      "Requirement already satisfied: oauthlib>=3.0.0 in c:\\users\\vincent cm\\anaconda3\\lib\\site-packages (from requests-oauthlib>=0.7.0->google-auth-oauthlib<0.5,>=0.4.1->tensorboard<2.10,>=2.9->tensorflow) (3.2.0)\n",
      "Requirement already satisfied: pyparsing!=3.0.5,>=2.0.2 in c:\\users\\vincent cm\\anaconda3\\lib\\site-packages (from packaging->tensorflow) (3.0.4)\n"
     ]
    }
   ],
   "source": [
    "!pip install tensorflow\n",
    "!pip install -q tensorflow-recommenders\n",
    "!pip install -q --upgrade tensorflow-datasets"
   ]
  },
  {
   "cell_type": "code",
   "execution_count": 2,
   "metadata": {
    "execution": {
     "iopub.execute_input": "2021-10-02T12:07:29.358577Z",
     "iopub.status.busy": "2021-10-02T12:07:29.357843Z",
     "iopub.status.idle": "2021-10-02T12:07:31.895529Z",
     "shell.execute_reply": "2021-10-02T12:07:31.894894Z"
    },
    "id": "n3oYt3R6Nr9l"
   },
   "outputs": [],
   "source": [
    "from typing import Dict, Text\n",
    "\n",
    "import numpy as np\n",
    "import tensorflow as tf\n",
    "import pandas as pd\n",
    "import tensorflow_datasets as tfds\n",
    "import tensorflow_recommenders as tfrs"
   ]
  },
  {
   "cell_type": "markdown",
   "metadata": {
    "id": "zCxQ1CZcO2wh"
   },
   "source": [
    "### Read the data"
   ]
  },
  {
   "cell_type": "code",
   "execution_count": 3,
   "metadata": {
    "execution": {
     "iopub.execute_input": "2021-10-02T12:07:31.902594Z",
     "iopub.status.busy": "2021-10-02T12:07:31.901793Z",
     "iopub.status.idle": "2021-10-02T12:07:33.376336Z",
     "shell.execute_reply": "2021-10-02T12:07:33.375679Z"
    },
    "id": "M-mxBYjdO5m7",
    "scrolled": false
   },
   "outputs": [],
   "source": [
    "# Ratings data.\n",
    "#ratings = tfds.load('movielens/100k-ratings', split=\"train\")\n",
    "# Features of all the available movies.\n",
    "#movies = tfds.load('movielens/100k-movies', split=\"train\")\n",
    "    \n",
    "#ratings data\n",
    "data = pd.read_csv('final_ratings.csv', encoding='latin-1')\n",
    "data = np.asarray(data).astype('str')\n",
    "data2 = tf.data.Dataset.from_tensor_slices(data)\n",
    "\n",
    "#list of movies\n",
    "data3 = pd.read_csv('Restaurant_list.csv', encoding='latin-1')\n",
    "data3 = np.asarray(data3).astype('str')\n",
    "data4 = tf.data.Dataset.from_tensor_slices(data3)\n",
    "\n",
    "user_place = data2.map(lambda x: {\n",
    "    \"userID\": x[0],\n",
    "    \"restoID\": x[1]\n",
    "})\n",
    "place = data4.map(lambda x: x[0])\n",
    "\n",
    "# Select the basic features.\n",
    "#ratings = ratings.map(lambda x: {\n",
    "#    \"movie_title\": x[\"movie_title\"],\n",
    "#    \"user_id\": x[\"user_id\"]\n",
    "#})\n",
    "#movies = movies.map(lambda x: x[\"movie_title\"])"
   ]
  },
  {
   "cell_type": "markdown",
   "metadata": {
    "id": "5W0HSfmSNCWm"
   },
   "source": [
    "Build vocabularies to convert user ids and movie titles into integer indices for embedding layers:"
   ]
  },
  {
   "cell_type": "code",
   "execution_count": 4,
   "metadata": {
    "execution": {
     "iopub.execute_input": "2021-10-02T12:07:33.388590Z",
     "iopub.status.busy": "2021-10-02T12:07:33.382095Z",
     "iopub.status.idle": "2021-10-02T12:08:09.745379Z",
     "shell.execute_reply": "2021-10-02T12:08:09.745858Z"
    },
    "id": "9I1VTEjHzpfX"
   },
   "outputs": [],
   "source": [
    "user_ids_vocabulary = tf.keras.layers.StringLookup(mask_token=None)\n",
    "user_ids_vocabulary.adapt(user_place.map(lambda x: x[\"userID\"]))\n",
    "\n",
    "resto_titles_vocabulary = tf.keras.layers.StringLookup(mask_token=None)\n",
    "resto_titles_vocabulary.adapt(place)"
   ]
  },
  {
   "cell_type": "markdown",
   "metadata": {
    "id": "Lrch6rVBOB9Q"
   },
   "source": [
    "### Define a model\n",
    "\n",
    "We can define a TFRS model by inheriting from `tfrs.Model` and implementing the `compute_loss` method:"
   ]
  },
  {
   "cell_type": "code",
   "execution_count": 5,
   "metadata": {
    "execution": {
     "iopub.execute_input": "2021-10-02T12:08:09.754302Z",
     "iopub.status.busy": "2021-10-02T12:08:09.753476Z",
     "iopub.status.idle": "2021-10-02T12:08:09.755872Z",
     "shell.execute_reply": "2021-10-02T12:08:09.755348Z"
    },
    "id": "e5dNbDZwOIHR"
   },
   "outputs": [],
   "source": [
    "class MovieLensModel(tfrs.Model):\n",
    "  # We derive from a custom base class to help reduce boilerplate. Under the hood,\n",
    "  # these are still plain Keras Models.\n",
    "\n",
    "  def __init__(\n",
    "      self,\n",
    "      user_model: tf.keras.Model,\n",
    "      resto_model: tf.keras.Model,\n",
    "      task: tfrs.tasks.Retrieval):\n",
    "    super().__init__()\n",
    "\n",
    "    # Set up user and movie representations.\n",
    "    self.user_model = user_model\n",
    "    self.resto_model = resto_model\n",
    "\n",
    "    # Set up a retrieval task.\n",
    "    self.task = task\n",
    "\n",
    "  def compute_loss(self, features: Dict[Text, tf.Tensor], training=False) -> tf.Tensor:\n",
    "    # Define how the loss is computed.\n",
    "\n",
    "  #  user_embedding = self.user_model(features[0])\n",
    "  #  resto_embeddings = self.resto_model(features[1])\n",
    "    \n",
    "    user_embedding = self.user_model(features[\"userID\"])\n",
    "    resto_embeddings = self.resto_model(features[\"restoID\"])\n",
    "\n",
    "    return self.task(user_embedding, resto_embeddings)"
   ]
  },
  {
   "cell_type": "markdown",
   "metadata": {
    "id": "wdwtgUCEOI8y"
   },
   "source": [
    "Define the two models and the retrieval task."
   ]
  },
  {
   "cell_type": "code",
   "execution_count": 6,
   "metadata": {
    "execution": {
     "iopub.execute_input": "2021-10-02T12:08:09.762937Z",
     "iopub.status.busy": "2021-10-02T12:08:09.762152Z",
     "iopub.status.idle": "2021-10-02T12:08:09.821130Z",
     "shell.execute_reply": "2021-10-02T12:08:09.821579Z"
    },
    "id": "EvtnUN6aUY4U"
   },
   "outputs": [],
   "source": [
    "# Define user and movie models.\n",
    "user_model = tf.keras.Sequential([\n",
    "    user_ids_vocabulary,\n",
    "    tf.keras.layers.Embedding(user_ids_vocabulary.vocabulary_size(), 64)\n",
    "])\n",
    "resto_model = tf.keras.Sequential([\n",
    "    resto_titles_vocabulary,\n",
    "    tf.keras.layers.Embedding(resto_titles_vocabulary.vocabulary_size(), 64)\n",
    "])\n",
    "\n",
    "# Define your objectives.\n",
    "task = tfrs.tasks.Retrieval(metrics=tfrs.metrics.FactorizedTopK(\n",
    "    place.batch(4).map(resto_model)\n",
    "  )\n",
    ")"
   ]
  },
  {
   "cell_type": "markdown",
   "metadata": {
    "id": "BMV0HpzmJGWk"
   },
   "source": [
    "\n",
    "### Fit and evaluate it.\n",
    "\n",
    "Create the model, train it, and generate predictions:\n",
    "\n"
   ]
  },
  {
   "cell_type": "code",
   "execution_count": 7,
   "metadata": {
    "execution": {
     "iopub.execute_input": "2021-10-02T12:08:09.830555Z",
     "iopub.status.busy": "2021-10-02T12:08:09.829800Z",
     "iopub.status.idle": "2021-10-02T12:08:26.474598Z",
     "shell.execute_reply": "2021-10-02T12:08:26.475008Z"
    },
    "id": "H2tQDhqkOKf1"
   },
   "outputs": [
    {
     "name": "stdout",
     "output_type": "stream",
     "text": [
      "Epoch 1/50\n",
      "77/77 [==============================] - 4s 38ms/step - factorized_top_k/top_1_categorical_accuracy: 0.0902 - factorized_top_k/top_5_categorical_accuracy: 0.3621 - factorized_top_k/top_10_categorical_accuracy: 0.5007 - factorized_top_k/top_50_categorical_accuracy: 1.0000 - factorized_top_k/top_100_categorical_accuracy: 1.0000 - loss: 23.1758 - regularization_loss: 0.0000e+00 - total_loss: 23.1758\n",
      "Epoch 2/50\n",
      "77/77 [==============================] - 3s 38ms/step - factorized_top_k/top_1_categorical_accuracy: 0.0144 - factorized_top_k/top_5_categorical_accuracy: 0.2379 - factorized_top_k/top_10_categorical_accuracy: 0.5686 - factorized_top_k/top_50_categorical_accuracy: 1.0000 - factorized_top_k/top_100_categorical_accuracy: 1.0000 - loss: 25.3606 - regularization_loss: 0.0000e+00 - total_loss: 25.3606\n",
      "Epoch 3/50\n",
      "77/77 [==============================] - 3s 39ms/step - factorized_top_k/top_1_categorical_accuracy: 0.0196 - factorized_top_k/top_5_categorical_accuracy: 0.2706 - factorized_top_k/top_10_categorical_accuracy: 0.5490 - factorized_top_k/top_50_categorical_accuracy: 1.0000 - factorized_top_k/top_100_categorical_accuracy: 1.0000 - loss: 23.7158 - regularization_loss: 0.0000e+00 - total_loss: 23.7158\n",
      "Epoch 4/50\n",
      "77/77 [==============================] - 3s 38ms/step - factorized_top_k/top_1_categorical_accuracy: 0.0431 - factorized_top_k/top_5_categorical_accuracy: 0.3033 - factorized_top_k/top_10_categorical_accuracy: 0.5856 - factorized_top_k/top_50_categorical_accuracy: 1.0000 - factorized_top_k/top_100_categorical_accuracy: 1.0000 - loss: 22.0048 - regularization_loss: 0.0000e+00 - total_loss: 22.0048\n",
      "Epoch 5/50\n",
      "77/77 [==============================] - 3s 39ms/step - factorized_top_k/top_1_categorical_accuracy: 0.0353 - factorized_top_k/top_5_categorical_accuracy: 0.3124 - factorized_top_k/top_10_categorical_accuracy: 0.5791 - factorized_top_k/top_50_categorical_accuracy: 1.0000 - factorized_top_k/top_100_categorical_accuracy: 1.0000 - loss: 21.6987 - regularization_loss: 0.0000e+00 - total_loss: 21.6987\n",
      "Epoch 6/50\n",
      "77/77 [==============================] - 3s 38ms/step - factorized_top_k/top_1_categorical_accuracy: 0.0275 - factorized_top_k/top_5_categorical_accuracy: 0.3046 - factorized_top_k/top_10_categorical_accuracy: 0.5791 - factorized_top_k/top_50_categorical_accuracy: 1.0000 - factorized_top_k/top_100_categorical_accuracy: 1.0000 - loss: 21.5797 - regularization_loss: 0.0000e+00 - total_loss: 21.5797\n",
      "Epoch 7/50\n",
      "77/77 [==============================] - 3s 38ms/step - factorized_top_k/top_1_categorical_accuracy: 0.0144 - factorized_top_k/top_5_categorical_accuracy: 0.3098 - factorized_top_k/top_10_categorical_accuracy: 0.5817 - factorized_top_k/top_50_categorical_accuracy: 1.0000 - factorized_top_k/top_100_categorical_accuracy: 1.0000 - loss: 21.5115 - regularization_loss: 0.0000e+00 - total_loss: 21.5115\n",
      "Epoch 8/50\n",
      "77/77 [==============================] - 3s 39ms/step - factorized_top_k/top_1_categorical_accuracy: 0.0170 - factorized_top_k/top_5_categorical_accuracy: 0.3176 - factorized_top_k/top_10_categorical_accuracy: 0.5804 - factorized_top_k/top_50_categorical_accuracy: 1.0000 - factorized_top_k/top_100_categorical_accuracy: 1.0000 - loss: 21.4729 - regularization_loss: 0.0000e+00 - total_loss: 21.4729\n",
      "Epoch 9/50\n",
      "77/77 [==============================] - 3s 38ms/step - factorized_top_k/top_1_categorical_accuracy: 0.0196 - factorized_top_k/top_5_categorical_accuracy: 0.3085 - factorized_top_k/top_10_categorical_accuracy: 0.5830 - factorized_top_k/top_50_categorical_accuracy: 1.0000 - factorized_top_k/top_100_categorical_accuracy: 1.0000 - loss: 21.4471 - regularization_loss: 0.0000e+00 - total_loss: 21.4471\n",
      "Epoch 10/50\n",
      "77/77 [==============================] - 3s 40ms/step - factorized_top_k/top_1_categorical_accuracy: 0.0170 - factorized_top_k/top_5_categorical_accuracy: 0.3085 - factorized_top_k/top_10_categorical_accuracy: 0.5856 - factorized_top_k/top_50_categorical_accuracy: 1.0000 - factorized_top_k/top_100_categorical_accuracy: 1.0000 - loss: 21.4297 - regularization_loss: 0.0000e+00 - total_loss: 21.4297\n",
      "Epoch 11/50\n",
      "77/77 [==============================] - 3s 38ms/step - factorized_top_k/top_1_categorical_accuracy: 0.0209 - factorized_top_k/top_5_categorical_accuracy: 0.3046 - factorized_top_k/top_10_categorical_accuracy: 0.5791 - factorized_top_k/top_50_categorical_accuracy: 1.0000 - factorized_top_k/top_100_categorical_accuracy: 1.0000 - loss: 21.4180 - regularization_loss: 0.0000e+00 - total_loss: 21.4180\n",
      "Epoch 12/50\n",
      "77/77 [==============================] - 3s 39ms/step - factorized_top_k/top_1_categorical_accuracy: 0.0144 - factorized_top_k/top_5_categorical_accuracy: 0.3111 - factorized_top_k/top_10_categorical_accuracy: 0.5843 - factorized_top_k/top_50_categorical_accuracy: 1.0000 - factorized_top_k/top_100_categorical_accuracy: 1.0000 - loss: 21.4100 - regularization_loss: 0.0000e+00 - total_loss: 21.4100\n",
      "Epoch 13/50\n",
      "77/77 [==============================] - 3s 38ms/step - factorized_top_k/top_1_categorical_accuracy: 0.0196 - factorized_top_k/top_5_categorical_accuracy: 0.3072 - factorized_top_k/top_10_categorical_accuracy: 0.5817 - factorized_top_k/top_50_categorical_accuracy: 1.0000 - factorized_top_k/top_100_categorical_accuracy: 1.0000 - loss: 21.4043 - regularization_loss: 0.0000e+00 - total_loss: 21.4043\n",
      "Epoch 14/50\n",
      "77/77 [==============================] - 3s 38ms/step - factorized_top_k/top_1_categorical_accuracy: 0.0131 - factorized_top_k/top_5_categorical_accuracy: 0.3111 - factorized_top_k/top_10_categorical_accuracy: 0.5922 - factorized_top_k/top_50_categorical_accuracy: 1.0000 - factorized_top_k/top_100_categorical_accuracy: 1.0000 - loss: 21.4001 - regularization_loss: 0.0000e+00 - total_loss: 21.4001\n",
      "Epoch 15/50\n",
      "77/77 [==============================] - 3s 40ms/step - factorized_top_k/top_1_categorical_accuracy: 0.0170 - factorized_top_k/top_5_categorical_accuracy: 0.3072 - factorized_top_k/top_10_categorical_accuracy: 0.5882 - factorized_top_k/top_50_categorical_accuracy: 1.0000 - factorized_top_k/top_100_categorical_accuracy: 1.0000 - loss: 21.3969 - regularization_loss: 0.0000e+00 - total_loss: 21.3969\n",
      "Epoch 16/50\n",
      "77/77 [==============================] - 3s 38ms/step - factorized_top_k/top_1_categorical_accuracy: 0.0118 - factorized_top_k/top_5_categorical_accuracy: 0.3150 - factorized_top_k/top_10_categorical_accuracy: 0.5882 - factorized_top_k/top_50_categorical_accuracy: 1.0000 - factorized_top_k/top_100_categorical_accuracy: 1.0000 - loss: 21.3945 - regularization_loss: 0.0000e+00 - total_loss: 21.3945\n",
      "Epoch 17/50\n",
      "77/77 [==============================] - 3s 39ms/step - factorized_top_k/top_1_categorical_accuracy: 0.0157 - factorized_top_k/top_5_categorical_accuracy: 0.3137 - factorized_top_k/top_10_categorical_accuracy: 0.5869 - factorized_top_k/top_50_categorical_accuracy: 1.0000 - factorized_top_k/top_100_categorical_accuracy: 1.0000 - loss: 21.3926 - regularization_loss: 0.0000e+00 - total_loss: 21.3926\n",
      "Epoch 18/50\n",
      "77/77 [==============================] - 3s 38ms/step - factorized_top_k/top_1_categorical_accuracy: 0.0157 - factorized_top_k/top_5_categorical_accuracy: 0.3137 - factorized_top_k/top_10_categorical_accuracy: 0.5882 - factorized_top_k/top_50_categorical_accuracy: 1.0000 - factorized_top_k/top_100_categorical_accuracy: 1.0000 - loss: 21.3910 - regularization_loss: 0.0000e+00 - total_loss: 21.3910\n",
      "Epoch 19/50\n",
      "77/77 [==============================] - 3s 39ms/step - factorized_top_k/top_1_categorical_accuracy: 0.0183 - factorized_top_k/top_5_categorical_accuracy: 0.3150 - factorized_top_k/top_10_categorical_accuracy: 0.5882 - factorized_top_k/top_50_categorical_accuracy: 1.0000 - factorized_top_k/top_100_categorical_accuracy: 1.0000 - loss: 21.3897 - regularization_loss: 0.0000e+00 - total_loss: 21.3897\n",
      "Epoch 20/50\n"
     ]
    },
    {
     "name": "stdout",
     "output_type": "stream",
     "text": [
      "77/77 [==============================] - 3s 38ms/step - factorized_top_k/top_1_categorical_accuracy: 0.0157 - factorized_top_k/top_5_categorical_accuracy: 0.3190 - factorized_top_k/top_10_categorical_accuracy: 0.5856 - factorized_top_k/top_50_categorical_accuracy: 1.0000 - factorized_top_k/top_100_categorical_accuracy: 1.0000 - loss: 21.3886 - regularization_loss: 0.0000e+00 - total_loss: 21.3886\n",
      "Epoch 21/50\n",
      "77/77 [==============================] - 3s 38ms/step - factorized_top_k/top_1_categorical_accuracy: 0.0157 - factorized_top_k/top_5_categorical_accuracy: 0.3150 - factorized_top_k/top_10_categorical_accuracy: 0.5778 - factorized_top_k/top_50_categorical_accuracy: 1.0000 - factorized_top_k/top_100_categorical_accuracy: 1.0000 - loss: 21.3877 - regularization_loss: 0.0000e+00 - total_loss: 21.3877\n",
      "Epoch 22/50\n",
      "77/77 [==============================] - 3s 39ms/step - factorized_top_k/top_1_categorical_accuracy: 0.0235 - factorized_top_k/top_5_categorical_accuracy: 0.3124 - factorized_top_k/top_10_categorical_accuracy: 0.5817 - factorized_top_k/top_50_categorical_accuracy: 1.0000 - factorized_top_k/top_100_categorical_accuracy: 1.0000 - loss: 21.3869 - regularization_loss: 0.0000e+00 - total_loss: 21.3869\n",
      "Epoch 23/50\n",
      "77/77 [==============================] - 3s 38ms/step - factorized_top_k/top_1_categorical_accuracy: 0.0222 - factorized_top_k/top_5_categorical_accuracy: 0.3190 - factorized_top_k/top_10_categorical_accuracy: 0.5817 - factorized_top_k/top_50_categorical_accuracy: 1.0000 - factorized_top_k/top_100_categorical_accuracy: 1.0000 - loss: 21.3862 - regularization_loss: 0.0000e+00 - total_loss: 21.3862\n",
      "Epoch 24/50\n",
      "77/77 [==============================] - 3s 39ms/step - factorized_top_k/top_1_categorical_accuracy: 0.0209 - factorized_top_k/top_5_categorical_accuracy: 0.3216 - factorized_top_k/top_10_categorical_accuracy: 0.5778 - factorized_top_k/top_50_categorical_accuracy: 1.0000 - factorized_top_k/top_100_categorical_accuracy: 1.0000 - loss: 21.3856 - regularization_loss: 0.0000e+00 - total_loss: 21.3856\n",
      "Epoch 25/50\n",
      "77/77 [==============================] - 3s 37ms/step - factorized_top_k/top_1_categorical_accuracy: 0.0183 - factorized_top_k/top_5_categorical_accuracy: 0.3150 - factorized_top_k/top_10_categorical_accuracy: 0.5804 - factorized_top_k/top_50_categorical_accuracy: 1.0000 - factorized_top_k/top_100_categorical_accuracy: 1.0000 - loss: 21.3851 - regularization_loss: 0.0000e+00 - total_loss: 21.3851\n",
      "Epoch 26/50\n",
      "77/77 [==============================] - 3s 39ms/step - factorized_top_k/top_1_categorical_accuracy: 0.0170 - factorized_top_k/top_5_categorical_accuracy: 0.3150 - factorized_top_k/top_10_categorical_accuracy: 0.5817 - factorized_top_k/top_50_categorical_accuracy: 1.0000 - factorized_top_k/top_100_categorical_accuracy: 1.0000 - loss: 21.3847 - regularization_loss: 0.0000e+00 - total_loss: 21.3847\n",
      "Epoch 27/50\n",
      "77/77 [==============================] - 3s 37ms/step - factorized_top_k/top_1_categorical_accuracy: 0.0157 - factorized_top_k/top_5_categorical_accuracy: 0.3229 - factorized_top_k/top_10_categorical_accuracy: 0.5765 - factorized_top_k/top_50_categorical_accuracy: 1.0000 - factorized_top_k/top_100_categorical_accuracy: 1.0000 - loss: 21.3843 - regularization_loss: 0.0000e+00 - total_loss: 21.3843\n",
      "Epoch 28/50\n",
      "77/77 [==============================] - 3s 38ms/step - factorized_top_k/top_1_categorical_accuracy: 0.0196 - factorized_top_k/top_5_categorical_accuracy: 0.3163 - factorized_top_k/top_10_categorical_accuracy: 0.5843 - factorized_top_k/top_50_categorical_accuracy: 1.0000 - factorized_top_k/top_100_categorical_accuracy: 1.0000 - loss: 21.3839 - regularization_loss: 0.0000e+00 - total_loss: 21.3839\n",
      "Epoch 29/50\n",
      "77/77 [==============================] - 3s 39ms/step - factorized_top_k/top_1_categorical_accuracy: 0.0157 - factorized_top_k/top_5_categorical_accuracy: 0.3190 - factorized_top_k/top_10_categorical_accuracy: 0.5843 - factorized_top_k/top_50_categorical_accuracy: 1.0000 - factorized_top_k/top_100_categorical_accuracy: 1.0000 - loss: 21.3836 - regularization_loss: 0.0000e+00 - total_loss: 21.3836\n",
      "Epoch 30/50\n",
      "77/77 [==============================] - 3s 38ms/step - factorized_top_k/top_1_categorical_accuracy: 0.0183 - factorized_top_k/top_5_categorical_accuracy: 0.3163 - factorized_top_k/top_10_categorical_accuracy: 0.5778 - factorized_top_k/top_50_categorical_accuracy: 1.0000 - factorized_top_k/top_100_categorical_accuracy: 1.0000 - loss: 21.3833 - regularization_loss: 0.0000e+00 - total_loss: 21.3833\n",
      "Epoch 31/50\n",
      "77/77 [==============================] - 3s 39ms/step - factorized_top_k/top_1_categorical_accuracy: 0.0183 - factorized_top_k/top_5_categorical_accuracy: 0.3150 - factorized_top_k/top_10_categorical_accuracy: 0.5843 - factorized_top_k/top_50_categorical_accuracy: 1.0000 - factorized_top_k/top_100_categorical_accuracy: 1.0000 - loss: 21.3830 - regularization_loss: 0.0000e+00 - total_loss: 21.3830\n",
      "Epoch 32/50\n",
      "77/77 [==============================] - 3s 38ms/step - factorized_top_k/top_1_categorical_accuracy: 0.0222 - factorized_top_k/top_5_categorical_accuracy: 0.3150 - factorized_top_k/top_10_categorical_accuracy: 0.5843 - factorized_top_k/top_50_categorical_accuracy: 1.0000 - factorized_top_k/top_100_categorical_accuracy: 1.0000 - loss: 21.3828 - regularization_loss: 0.0000e+00 - total_loss: 21.3828\n",
      "Epoch 33/50\n",
      "77/77 [==============================] - 3s 39ms/step - factorized_top_k/top_1_categorical_accuracy: 0.0157 - factorized_top_k/top_5_categorical_accuracy: 0.3255 - factorized_top_k/top_10_categorical_accuracy: 0.5843 - factorized_top_k/top_50_categorical_accuracy: 1.0000 - factorized_top_k/top_100_categorical_accuracy: 1.0000 - loss: 21.3825 - regularization_loss: 0.0000e+00 - total_loss: 21.3825\n",
      "Epoch 34/50\n",
      "77/77 [==============================] - 3s 38ms/step - factorized_top_k/top_1_categorical_accuracy: 0.0196 - factorized_top_k/top_5_categorical_accuracy: 0.3176 - factorized_top_k/top_10_categorical_accuracy: 0.5791 - factorized_top_k/top_50_categorical_accuracy: 1.0000 - factorized_top_k/top_100_categorical_accuracy: 1.0000 - loss: 21.3823 - regularization_loss: 0.0000e+00 - total_loss: 21.3823\n",
      "Epoch 35/50\n",
      "77/77 [==============================] - 3s 39ms/step - factorized_top_k/top_1_categorical_accuracy: 0.0209 - factorized_top_k/top_5_categorical_accuracy: 0.3190 - factorized_top_k/top_10_categorical_accuracy: 0.5804 - factorized_top_k/top_50_categorical_accuracy: 1.0000 - factorized_top_k/top_100_categorical_accuracy: 1.0000 - loss: 21.3821 - regularization_loss: 0.0000e+00 - total_loss: 21.3821\n",
      "Epoch 36/50\n",
      "77/77 [==============================] - 3s 38ms/step - factorized_top_k/top_1_categorical_accuracy: 0.0209 - factorized_top_k/top_5_categorical_accuracy: 0.3216 - factorized_top_k/top_10_categorical_accuracy: 0.5752 - factorized_top_k/top_50_categorical_accuracy: 1.0000 - factorized_top_k/top_100_categorical_accuracy: 1.0000 - loss: 21.3820 - regularization_loss: 0.0000e+00 - total_loss: 21.3820\n",
      "Epoch 37/50\n",
      "77/77 [==============================] - 3s 39ms/step - factorized_top_k/top_1_categorical_accuracy: 0.0170 - factorized_top_k/top_5_categorical_accuracy: 0.3203 - factorized_top_k/top_10_categorical_accuracy: 0.5817 - factorized_top_k/top_50_categorical_accuracy: 1.0000 - factorized_top_k/top_100_categorical_accuracy: 1.0000 - loss: 21.3818 - regularization_loss: 0.0000e+00 - total_loss: 21.3818\n",
      "Epoch 38/50\n",
      "77/77 [==============================] - 3s 39ms/step - factorized_top_k/top_1_categorical_accuracy: 0.0183 - factorized_top_k/top_5_categorical_accuracy: 0.3229 - factorized_top_k/top_10_categorical_accuracy: 0.5778 - factorized_top_k/top_50_categorical_accuracy: 1.0000 - factorized_top_k/top_100_categorical_accuracy: 1.0000 - loss: 21.3816 - regularization_loss: 0.0000e+00 - total_loss: 21.3816\n",
      "Epoch 39/50\n"
     ]
    },
    {
     "name": "stdout",
     "output_type": "stream",
     "text": [
      "77/77 [==============================] - 3s 38ms/step - factorized_top_k/top_1_categorical_accuracy: 0.0183 - factorized_top_k/top_5_categorical_accuracy: 0.3268 - factorized_top_k/top_10_categorical_accuracy: 0.5804 - factorized_top_k/top_50_categorical_accuracy: 1.0000 - factorized_top_k/top_100_categorical_accuracy: 1.0000 - loss: 21.3815 - regularization_loss: 0.0000e+00 - total_loss: 21.3815\n",
      "Epoch 40/50\n",
      "77/77 [==============================] - 3s 39ms/step - factorized_top_k/top_1_categorical_accuracy: 0.0196 - factorized_top_k/top_5_categorical_accuracy: 0.3216 - factorized_top_k/top_10_categorical_accuracy: 0.5804 - factorized_top_k/top_50_categorical_accuracy: 1.0000 - factorized_top_k/top_100_categorical_accuracy: 1.0000 - loss: 21.3814 - regularization_loss: 0.0000e+00 - total_loss: 21.3814\n",
      "Epoch 41/50\n",
      "77/77 [==============================] - 3s 38ms/step - factorized_top_k/top_1_categorical_accuracy: 0.0170 - factorized_top_k/top_5_categorical_accuracy: 0.3229 - factorized_top_k/top_10_categorical_accuracy: 0.5830 - factorized_top_k/top_50_categorical_accuracy: 1.0000 - factorized_top_k/top_100_categorical_accuracy: 1.0000 - loss: 21.3812 - regularization_loss: 0.0000e+00 - total_loss: 21.3812\n",
      "Epoch 42/50\n",
      "77/77 [==============================] - 3s 39ms/step - factorized_top_k/top_1_categorical_accuracy: 0.0196 - factorized_top_k/top_5_categorical_accuracy: 0.3229 - factorized_top_k/top_10_categorical_accuracy: 0.5778 - factorized_top_k/top_50_categorical_accuracy: 1.0000 - factorized_top_k/top_100_categorical_accuracy: 1.0000 - loss: 21.3811 - regularization_loss: 0.0000e+00 - total_loss: 21.3811\n",
      "Epoch 43/50\n",
      "77/77 [==============================] - 3s 38ms/step - factorized_top_k/top_1_categorical_accuracy: 0.0170 - factorized_top_k/top_5_categorical_accuracy: 0.3216 - factorized_top_k/top_10_categorical_accuracy: 0.5791 - factorized_top_k/top_50_categorical_accuracy: 1.0000 - factorized_top_k/top_100_categorical_accuracy: 1.0000 - loss: 21.3810 - regularization_loss: 0.0000e+00 - total_loss: 21.3810\n",
      "Epoch 44/50\n",
      "77/77 [==============================] - 3s 38ms/step - factorized_top_k/top_1_categorical_accuracy: 0.0196 - factorized_top_k/top_5_categorical_accuracy: 0.3216 - factorized_top_k/top_10_categorical_accuracy: 0.5778 - factorized_top_k/top_50_categorical_accuracy: 1.0000 - factorized_top_k/top_100_categorical_accuracy: 1.0000 - loss: 21.3809 - regularization_loss: 0.0000e+00 - total_loss: 21.3809\n",
      "Epoch 45/50\n",
      "77/77 [==============================] - 3s 39ms/step - factorized_top_k/top_1_categorical_accuracy: 0.0196 - factorized_top_k/top_5_categorical_accuracy: 0.3229 - factorized_top_k/top_10_categorical_accuracy: 0.5791 - factorized_top_k/top_50_categorical_accuracy: 1.0000 - factorized_top_k/top_100_categorical_accuracy: 1.0000 - loss: 21.3808 - regularization_loss: 0.0000e+00 - total_loss: 21.3808\n",
      "Epoch 46/50\n",
      "77/77 [==============================] - 3s 38ms/step - factorized_top_k/top_1_categorical_accuracy: 0.0196 - factorized_top_k/top_5_categorical_accuracy: 0.3176 - factorized_top_k/top_10_categorical_accuracy: 0.5739 - factorized_top_k/top_50_categorical_accuracy: 1.0000 - factorized_top_k/top_100_categorical_accuracy: 1.0000 - loss: 21.3807 - regularization_loss: 0.0000e+00 - total_loss: 21.3807\n",
      "Epoch 47/50\n",
      "77/77 [==============================] - 3s 40ms/step - factorized_top_k/top_1_categorical_accuracy: 0.0209 - factorized_top_k/top_5_categorical_accuracy: 0.3216 - factorized_top_k/top_10_categorical_accuracy: 0.5752 - factorized_top_k/top_50_categorical_accuracy: 1.0000 - factorized_top_k/top_100_categorical_accuracy: 1.0000 - loss: 21.3807 - regularization_loss: 0.0000e+00 - total_loss: 21.3807\n",
      "Epoch 48/50\n",
      "77/77 [==============================] - 3s 38ms/step - factorized_top_k/top_1_categorical_accuracy: 0.0222 - factorized_top_k/top_5_categorical_accuracy: 0.3216 - factorized_top_k/top_10_categorical_accuracy: 0.5778 - factorized_top_k/top_50_categorical_accuracy: 1.0000 - factorized_top_k/top_100_categorical_accuracy: 1.0000 - loss: 21.3806 - regularization_loss: 0.0000e+00 - total_loss: 21.3806\n",
      "Epoch 49/50\n",
      "77/77 [==============================] - 3s 40ms/step - factorized_top_k/top_1_categorical_accuracy: 0.0183 - factorized_top_k/top_5_categorical_accuracy: 0.3203 - factorized_top_k/top_10_categorical_accuracy: 0.5778 - factorized_top_k/top_50_categorical_accuracy: 1.0000 - factorized_top_k/top_100_categorical_accuracy: 1.0000 - loss: 21.3805 - regularization_loss: 0.0000e+00 - total_loss: 21.3805\n",
      "Epoch 50/50\n",
      "77/77 [==============================] - 3s 38ms/step - factorized_top_k/top_1_categorical_accuracy: 0.0131 - factorized_top_k/top_5_categorical_accuracy: 0.3216 - factorized_top_k/top_10_categorical_accuracy: 0.5752 - factorized_top_k/top_50_categorical_accuracy: 1.0000 - factorized_top_k/top_100_categorical_accuracy: 1.0000 - loss: 21.3804 - regularization_loss: 0.0000e+00 - total_loss: 21.3804\n"
     ]
    },
    {
     "data": {
      "text/plain": [
       "<tensorflow_recommenders.layers.factorized_top_k.BruteForce at 0x258e284d310>"
      ]
     },
     "execution_count": 7,
     "metadata": {},
     "output_type": "execute_result"
    }
   ],
   "source": [
    "# Create a retrieval model.\n",
    "model = MovieLensModel(user_model, resto_model, task)\n",
    "model.compile(optimizer=tf.keras.optimizers.Adagrad(0.5))\n",
    "\n",
    "# Train for 3 epochs.\n",
    "model.fit(user_place.batch(10), epochs=50)\n",
    "\n",
    "# Use brute-force search to set up retrieval using the trained representations.\n",
    "index = tfrs.layers.factorized_top_k.BruteForce(model.user_model)\n",
    "index.index_from_dataset(\n",
    "    place.batch(10).map(lambda title: (title, model.resto_model(title))))\n",
    "\n",
    "# Get some recommendations.\n",
    "#_, titles = index(np.array([\"U1001\"]))\n",
    "#print(f\"Top 3 recommendations for user U1001: {titles[0, :3]}\")\n",
    "#print(f\"Top 3 recommendations for user U1001: {titles[0, :10]}\")\n",
    "#print(f\"Top 3 recommendations for user U1001: {titles[0, :3]}\") coba user lain yang rating lebih sedikit"
   ]
  },
  {
   "cell_type": "code",
   "execution_count": 10,
   "metadata": {
    "id": "neJAJVwbReNd"
   },
   "outputs": [
    {
     "name": "stdout",
     "output_type": "stream",
     "text": [
      "Top 3 recommendations for user U1025: [b'R0016' b'R0011' b'R0009' b'R0004' b'R0003' b'R0001' b'R0014' b'R0018'\n",
      " b'R0017' b'R0010']\n"
     ]
    }
   ],
   "source": [
    "# Get some recommendations.\n",
    "_, titles = index(np.array([\"U1025\"]))\n",
    "#print(f\"Top 3 recommendations for user U1001: {titles[0, :3]}\")\n",
    "#print(f\"Top 10 recommendations for user U1001: {titles[0, :10]}\") #coba lebih banyak rekom\n",
    "print(f\"Top 3 recommendations for user U1025: {titles[0, :10]}\") #coba user lain yang rating lebih sedikit"
   ]
  },
  {
   "cell_type": "code",
   "execution_count": null,
   "metadata": {},
   "outputs": [],
   "source": []
  }
 ],
 "metadata": {
  "colab": {
   "collapsed_sections": [],
   "name": "quickstart.ipynb",
   "private_outputs": true,
   "provenance": [],
   "toc_visible": true
  },
  "kernelspec": {
   "display_name": "Python 3 (ipykernel)",
   "language": "python",
   "name": "python3"
  },
  "language_info": {
   "codemirror_mode": {
    "name": "ipython",
    "version": 3
   },
   "file_extension": ".py",
   "mimetype": "text/x-python",
   "name": "python",
   "nbconvert_exporter": "python",
   "pygments_lexer": "ipython3",
   "version": "3.8.3"
  }
 },
 "nbformat": 4,
 "nbformat_minor": 1
}
